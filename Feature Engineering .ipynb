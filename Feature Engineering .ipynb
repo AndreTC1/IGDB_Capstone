{
 "cells": [
  {
   "cell_type": "markdown",
   "id": "40071555",
   "metadata": {},
   "source": [
    "## Imports"
   ]
  },
  {
   "cell_type": "code",
   "execution_count": 1,
   "id": "06a428f8",
   "metadata": {},
   "outputs": [],
   "source": [
    "import pandas as pd\n",
    "import numpy as np\n",
    "\n",
    "from sklearn.model_selection import train_test_split, cross_validate, GridSearchCV, learning_curve\n",
    "from sklearn.preprocessing import StandardScaler, MinMaxScaler\n",
    "from sklearn.dummy import DummyRegressor\n",
    "from sklearn.metrics import r2_score, mean_squared_error, mean_absolute_error\n",
    "\n"
   ]
  },
  {
   "cell_type": "markdown",
   "id": "60ee9c3b",
   "metadata": {},
   "source": [
    "## Load Data "
   ]
  },
  {
   "cell_type": "code",
   "execution_count": 2,
   "id": "169c8b3a",
   "metadata": {},
   "outputs": [],
   "source": [
    "IGDB = pd.read_csv('./data/IGDB_pre_processing.csv')"
   ]
  },
  {
   "cell_type": "code",
   "execution_count": 3,
   "id": "4165411f",
   "metadata": {},
   "outputs": [
    {
     "data": {
      "text/html": [
       "<div>\n",
       "<style scoped>\n",
       "    .dataframe tbody tr th:only-of-type {\n",
       "        vertical-align: middle;\n",
       "    }\n",
       "\n",
       "    .dataframe tbody tr th {\n",
       "        vertical-align: top;\n",
       "    }\n",
       "\n",
       "    .dataframe thead th {\n",
       "        text-align: right;\n",
       "    }\n",
       "</style>\n",
       "<table border=\"1\" class=\"dataframe\">\n",
       "  <thead>\n",
       "    <tr style=\"text-align: right;\">\n",
       "      <th></th>\n",
       "      <th>0</th>\n",
       "      <th>1</th>\n",
       "      <th>2</th>\n",
       "      <th>3</th>\n",
       "      <th>4</th>\n",
       "    </tr>\n",
       "  </thead>\n",
       "  <tbody>\n",
       "    <tr>\n",
       "      <th>Unnamed: 0</th>\n",
       "      <td>0</td>\n",
       "      <td>1</td>\n",
       "      <td>2</td>\n",
       "      <td>3</td>\n",
       "      <td>4</td>\n",
       "    </tr>\n",
       "    <tr>\n",
       "      <th>id</th>\n",
       "      <td>7995</td>\n",
       "      <td>4221</td>\n",
       "      <td>1341</td>\n",
       "      <td>4967</td>\n",
       "      <td>5549</td>\n",
       "    </tr>\n",
       "    <tr>\n",
       "      <th>age_ratings</th>\n",
       "      <td>[66005]</td>\n",
       "      <td>[58455]</td>\n",
       "      <td>[4566, 34569, 94567, 94629, 123277, 131429]</td>\n",
       "      <td>[66179, 66256]</td>\n",
       "      <td>[2998]</td>\n",
       "    </tr>\n",
       "    <tr>\n",
       "      <th>category</th>\n",
       "      <td>0</td>\n",
       "      <td>0</td>\n",
       "      <td>0</td>\n",
       "      <td>0</td>\n",
       "      <td>0</td>\n",
       "    </tr>\n",
       "    <tr>\n",
       "      <th>collection</th>\n",
       "      <td>3138.0</td>\n",
       "      <td>687.0</td>\n",
       "      <td>361.0</td>\n",
       "      <td>NaN</td>\n",
       "      <td>815.0</td>\n",
       "    </tr>\n",
       "    <tr>\n",
       "      <th>cover</th>\n",
       "      <td>199764.0</td>\n",
       "      <td>161022.0</td>\n",
       "      <td>123347.0</td>\n",
       "      <td>329337.0</td>\n",
       "      <td>5630.0</td>\n",
       "    </tr>\n",
       "    <tr>\n",
       "      <th>created_at</th>\n",
       "      <td>1414716913</td>\n",
       "      <td>1390750383</td>\n",
       "      <td>1348912750</td>\n",
       "      <td>1391651125</td>\n",
       "      <td>1394219557</td>\n",
       "    </tr>\n",
       "    <tr>\n",
       "      <th>external_games</th>\n",
       "      <td>[52206, 132934, 1746061, 1921468]</td>\n",
       "      <td>[51645, 143610, 1709454]</td>\n",
       "      <td>[14669, 76711, 95250, 142618, 188993, 216380, ...</td>\n",
       "      <td>[35778, 128039, 247067]</td>\n",
       "      <td>[130300, 1191202]</td>\n",
       "    </tr>\n",
       "    <tr>\n",
       "      <th>first_release_date</th>\n",
       "      <td>2007-03-11</td>\n",
       "      <td>2002-06-03</td>\n",
       "      <td>2003-11-11</td>\n",
       "      <td>2007-05-01</td>\n",
       "      <td>2009-06-12</td>\n",
       "    </tr>\n",
       "    <tr>\n",
       "      <th>follows</th>\n",
       "      <td>NaN</td>\n",
       "      <td>NaN</td>\n",
       "      <td>157.0</td>\n",
       "      <td>NaN</td>\n",
       "      <td>2.0</td>\n",
       "    </tr>\n",
       "    <tr>\n",
       "      <th>game_modes</th>\n",
       "      <td>[1]</td>\n",
       "      <td>[1, 4]</td>\n",
       "      <td>[1]</td>\n",
       "      <td>[1, 4]</td>\n",
       "      <td>NaN</td>\n",
       "    </tr>\n",
       "    <tr>\n",
       "      <th>genres</th>\n",
       "      <td>[8]</td>\n",
       "      <td>[4, 14, 25]</td>\n",
       "      <td>[5, 9, 31]</td>\n",
       "      <td>[4]</td>\n",
       "      <td>[13]</td>\n",
       "    </tr>\n",
       "    <tr>\n",
       "      <th>involved_companies</th>\n",
       "      <td>[229976, 229977, 229978]</td>\n",
       "      <td>[10934, 10935, 10936]</td>\n",
       "      <td>[19816, 19817, 19818, 225039]</td>\n",
       "      <td>[11970, 11971]</td>\n",
       "      <td>[13433]</td>\n",
       "    </tr>\n",
       "    <tr>\n",
       "      <th>keywords</th>\n",
       "      <td>[690, 2387]</td>\n",
       "      <td>[61, 129, 632, 977, 982, 1440, 4228, 4903, 649...</td>\n",
       "      <td>[3, 40, 271, 274, 429, 575, 778, 923, 947, 962...</td>\n",
       "      <td>[61, 997, 1440, 2387, 4286, 4359, 4891]</td>\n",
       "      <td>[1158, 4134, 4353, 4359, 4681, 4869, 9511]</td>\n",
       "    </tr>\n",
       "    <tr>\n",
       "      <th>name</th>\n",
       "      <td>El Tigre: The Adventures of Manny Rivera</td>\n",
       "      <td>UFC: Throwdown</td>\n",
       "      <td>Beyond Good &amp; Evil</td>\n",
       "      <td>Legend of the Dragon</td>\n",
       "      <td>Railworks</td>\n",
       "    </tr>\n",
       "    <tr>\n",
       "      <th>platforms</th>\n",
       "      <td>[5, 8]</td>\n",
       "      <td>[8, 21]</td>\n",
       "      <td>[6, 8, 11, 21]</td>\n",
       "      <td>[5, 8, 38]</td>\n",
       "      <td>[6]</td>\n",
       "    </tr>\n",
       "    <tr>\n",
       "      <th>player_perspectives</th>\n",
       "      <td>[2]</td>\n",
       "      <td>[2]</td>\n",
       "      <td>[1, 2]</td>\n",
       "      <td>[4]</td>\n",
       "      <td>[3, 4]</td>\n",
       "    </tr>\n",
       "    <tr>\n",
       "      <th>release_dates</th>\n",
       "      <td>[511745, 511746]</td>\n",
       "      <td>[9923, 9924]</td>\n",
       "      <td>[25272, 25273, 25274, 25275, 25276, 25277, 252...</td>\n",
       "      <td>[11451, 11452, 11453]</td>\n",
       "      <td>[13437]</td>\n",
       "    </tr>\n",
       "    <tr>\n",
       "      <th>screenshots</th>\n",
       "      <td>[27813]</td>\n",
       "      <td>NaN</td>\n",
       "      <td>[6887, 6888, 6889, 6890, 6891, 6892, 152904, 1...</td>\n",
       "      <td>[27920, 336018, 336019, 336020]</td>\n",
       "      <td>[4411, 4412, 4413, 4414, 4415]</td>\n",
       "    </tr>\n",
       "    <tr>\n",
       "      <th>similar_games</th>\n",
       "      <td>[20342, 24426, 28070, 29032, 55190, 57187, 631...</td>\n",
       "      <td>[3819, 4755, 6219, 6335, 6386, 14704, 47580, 4...</td>\n",
       "      <td>[41, 72, 533, 538, 733, 1020, 1121, 3225, 1944...</td>\n",
       "      <td>[4052, 4260, 5867, 6386, 14704, 26950, 72605, ...</td>\n",
       "      <td>[3700, 5548, 7046, 9066, 17130, 19376, 20776, ...</td>\n",
       "    </tr>\n",
       "    <tr>\n",
       "      <th>slug</th>\n",
       "      <td>el-tigre-the-adventures-of-manny-rivera</td>\n",
       "      <td>ufc-throwdown</td>\n",
       "      <td>beyond-good-evil</td>\n",
       "      <td>legend-of-the-dragon</td>\n",
       "      <td>railworks</td>\n",
       "    </tr>\n",
       "    <tr>\n",
       "      <th>summary</th>\n",
       "      <td>Havoc has been unleashed on Miracle City! Scor...</td>\n",
       "      <td>UFC: Throwdown is based on the UFC (Ultimate F...</td>\n",
       "      <td>Beyond Good &amp; Evil is an action-adventure game...</td>\n",
       "      <td>Legend of the Dragon is a 3D versus fighting g...</td>\n",
       "      <td>RailWorks, later simply Train Simulator, is a ...</td>\n",
       "    </tr>\n",
       "    <tr>\n",
       "      <th>tags</th>\n",
       "      <td>[1, 268435464, 536871602, 536873299]</td>\n",
       "      <td>[268435460, 268435470, 268435481, 536870973, 5...</td>\n",
       "      <td>[1, 18, 23, 38, 268435461, 268435465, 26843548...</td>\n",
       "      <td>[1, 268435460, 536870973, 536871909, 536872352...</td>\n",
       "      <td>[268435469, 536872070, 536875046, 536875265, 5...</td>\n",
       "    </tr>\n",
       "    <tr>\n",
       "      <th>themes</th>\n",
       "      <td>[1]</td>\n",
       "      <td>NaN</td>\n",
       "      <td>[1, 18, 23, 38]</td>\n",
       "      <td>[1]</td>\n",
       "      <td>NaN</td>\n",
       "    </tr>\n",
       "    <tr>\n",
       "      <th>updated_at</th>\n",
       "      <td>1693874906</td>\n",
       "      <td>1691462902</td>\n",
       "      <td>1695301244</td>\n",
       "      <td>1694393987</td>\n",
       "      <td>1686020735</td>\n",
       "    </tr>\n",
       "    <tr>\n",
       "      <th>url</th>\n",
       "      <td>https://www.igdb.com/games/el-tigre-the-advent...</td>\n",
       "      <td>https://www.igdb.com/games/ufc-throwdown</td>\n",
       "      <td>https://www.igdb.com/games/beyond-good-evil</td>\n",
       "      <td>https://www.igdb.com/games/legend-of-the-dragon</td>\n",
       "      <td>https://www.igdb.com/games/railworks</td>\n",
       "    </tr>\n",
       "    <tr>\n",
       "      <th>websites</th>\n",
       "      <td>[254124, 395703]</td>\n",
       "      <td>[352322]</td>\n",
       "      <td>[16063, 16064, 16065, 67018, 118608, 313757, 5...</td>\n",
       "      <td>[334269]</td>\n",
       "      <td>[1263, 348033]</td>\n",
       "    </tr>\n",
       "    <tr>\n",
       "      <th>checksum</th>\n",
       "      <td>a17db3a2-98e7-fff0-1310-2dd6cd7f21d7</td>\n",
       "      <td>0495aef1-a71b-9630-181f-bf0674876f2a</td>\n",
       "      <td>df73e0a4-35da-fbf1-1d81-b8a1d7c831d0</td>\n",
       "      <td>e4c37e48-ce6e-2c17-b45a-de60b59cd9c3</td>\n",
       "      <td>52881f92-7845-6cae-4c7a-a687d72e0b6a</td>\n",
       "    </tr>\n",
       "    <tr>\n",
       "      <th>total_rating</th>\n",
       "      <td>65.0</td>\n",
       "      <td>60.0</td>\n",
       "      <td>88.0</td>\n",
       "      <td>30.0</td>\n",
       "      <td>70.0</td>\n",
       "    </tr>\n",
       "    <tr>\n",
       "      <th>total_rating_count</th>\n",
       "      <td>1.0</td>\n",
       "      <td>2.0</td>\n",
       "      <td>309.0</td>\n",
       "      <td>1.0</td>\n",
       "      <td>1.0</td>\n",
       "    </tr>\n",
       "    <tr>\n",
       "      <th>rating_count</th>\n",
       "      <td>NaN</td>\n",
       "      <td>NaN</td>\n",
       "      <td>303.0</td>\n",
       "      <td>NaN</td>\n",
       "      <td>NaN</td>\n",
       "    </tr>\n",
       "    <tr>\n",
       "      <th>console</th>\n",
       "      <td>1.0</td>\n",
       "      <td>1.0</td>\n",
       "      <td>1.0</td>\n",
       "      <td>1.0</td>\n",
       "      <td>0.0</td>\n",
       "    </tr>\n",
       "    <tr>\n",
       "      <th>operating_system</th>\n",
       "      <td>0.0</td>\n",
       "      <td>0.0</td>\n",
       "      <td>1.0</td>\n",
       "      <td>1.0</td>\n",
       "      <td>1.0</td>\n",
       "    </tr>\n",
       "    <tr>\n",
       "      <th>year</th>\n",
       "      <td>2007</td>\n",
       "      <td>2002</td>\n",
       "      <td>2003</td>\n",
       "      <td>2007</td>\n",
       "      <td>2009</td>\n",
       "    </tr>\n",
       "  </tbody>\n",
       "</table>\n",
       "</div>"
      ],
      "text/plain": [
       "                                                                     0  \\\n",
       "Unnamed: 0                                                           0   \n",
       "id                                                                7995   \n",
       "age_ratings                                                    [66005]   \n",
       "category                                                             0   \n",
       "collection                                                      3138.0   \n",
       "cover                                                         199764.0   \n",
       "created_at                                                  1414716913   \n",
       "external_games                       [52206, 132934, 1746061, 1921468]   \n",
       "first_release_date                                          2007-03-11   \n",
       "follows                                                            NaN   \n",
       "game_modes                                                         [1]   \n",
       "genres                                                             [8]   \n",
       "involved_companies                            [229976, 229977, 229978]   \n",
       "keywords                                                   [690, 2387]   \n",
       "name                          El Tigre: The Adventures of Manny Rivera   \n",
       "platforms                                                       [5, 8]   \n",
       "player_perspectives                                                [2]   \n",
       "release_dates                                         [511745, 511746]   \n",
       "screenshots                                                    [27813]   \n",
       "similar_games        [20342, 24426, 28070, 29032, 55190, 57187, 631...   \n",
       "slug                           el-tigre-the-adventures-of-manny-rivera   \n",
       "summary              Havoc has been unleashed on Miracle City! Scor...   \n",
       "tags                              [1, 268435464, 536871602, 536873299]   \n",
       "themes                                                             [1]   \n",
       "updated_at                                                  1693874906   \n",
       "url                  https://www.igdb.com/games/el-tigre-the-advent...   \n",
       "websites                                              [254124, 395703]   \n",
       "checksum                          a17db3a2-98e7-fff0-1310-2dd6cd7f21d7   \n",
       "total_rating                                                      65.0   \n",
       "total_rating_count                                                 1.0   \n",
       "rating_count                                                       NaN   \n",
       "console                                                            1.0   \n",
       "operating_system                                                   0.0   \n",
       "year                                                              2007   \n",
       "\n",
       "                                                                     1  \\\n",
       "Unnamed: 0                                                           1   \n",
       "id                                                                4221   \n",
       "age_ratings                                                    [58455]   \n",
       "category                                                             0   \n",
       "collection                                                       687.0   \n",
       "cover                                                         161022.0   \n",
       "created_at                                                  1390750383   \n",
       "external_games                                [51645, 143610, 1709454]   \n",
       "first_release_date                                          2002-06-03   \n",
       "follows                                                            NaN   \n",
       "game_modes                                                      [1, 4]   \n",
       "genres                                                     [4, 14, 25]   \n",
       "involved_companies                               [10934, 10935, 10936]   \n",
       "keywords             [61, 129, 632, 977, 982, 1440, 4228, 4903, 649...   \n",
       "name                                                    UFC: Throwdown   \n",
       "platforms                                                      [8, 21]   \n",
       "player_perspectives                                                [2]   \n",
       "release_dates                                             [9923, 9924]   \n",
       "screenshots                                                        NaN   \n",
       "similar_games        [3819, 4755, 6219, 6335, 6386, 14704, 47580, 4...   \n",
       "slug                                                     ufc-throwdown   \n",
       "summary              UFC: Throwdown is based on the UFC (Ultimate F...   \n",
       "tags                 [268435460, 268435470, 268435481, 536870973, 5...   \n",
       "themes                                                             NaN   \n",
       "updated_at                                                  1691462902   \n",
       "url                           https://www.igdb.com/games/ufc-throwdown   \n",
       "websites                                                      [352322]   \n",
       "checksum                          0495aef1-a71b-9630-181f-bf0674876f2a   \n",
       "total_rating                                                      60.0   \n",
       "total_rating_count                                                 2.0   \n",
       "rating_count                                                       NaN   \n",
       "console                                                            1.0   \n",
       "operating_system                                                   0.0   \n",
       "year                                                              2002   \n",
       "\n",
       "                                                                     2  \\\n",
       "Unnamed: 0                                                           2   \n",
       "id                                                                1341   \n",
       "age_ratings                [4566, 34569, 94567, 94629, 123277, 131429]   \n",
       "category                                                             0   \n",
       "collection                                                       361.0   \n",
       "cover                                                         123347.0   \n",
       "created_at                                                  1348912750   \n",
       "external_games       [14669, 76711, 95250, 142618, 188993, 216380, ...   \n",
       "first_release_date                                          2003-11-11   \n",
       "follows                                                          157.0   \n",
       "game_modes                                                         [1]   \n",
       "genres                                                      [5, 9, 31]   \n",
       "involved_companies                       [19816, 19817, 19818, 225039]   \n",
       "keywords             [3, 40, 271, 274, 429, 575, 778, 923, 947, 962...   \n",
       "name                                                Beyond Good & Evil   \n",
       "platforms                                               [6, 8, 11, 21]   \n",
       "player_perspectives                                             [1, 2]   \n",
       "release_dates        [25272, 25273, 25274, 25275, 25276, 25277, 252...   \n",
       "screenshots          [6887, 6888, 6889, 6890, 6891, 6892, 152904, 1...   \n",
       "similar_games        [41, 72, 533, 538, 733, 1020, 1121, 3225, 1944...   \n",
       "slug                                                  beyond-good-evil   \n",
       "summary              Beyond Good & Evil is an action-adventure game...   \n",
       "tags                 [1, 18, 23, 38, 268435461, 268435465, 26843548...   \n",
       "themes                                                 [1, 18, 23, 38]   \n",
       "updated_at                                                  1695301244   \n",
       "url                        https://www.igdb.com/games/beyond-good-evil   \n",
       "websites             [16063, 16064, 16065, 67018, 118608, 313757, 5...   \n",
       "checksum                          df73e0a4-35da-fbf1-1d81-b8a1d7c831d0   \n",
       "total_rating                                                      88.0   \n",
       "total_rating_count                                               309.0   \n",
       "rating_count                                                     303.0   \n",
       "console                                                            1.0   \n",
       "operating_system                                                   1.0   \n",
       "year                                                              2003   \n",
       "\n",
       "                                                                     3  \\\n",
       "Unnamed: 0                                                           3   \n",
       "id                                                                4967   \n",
       "age_ratings                                             [66179, 66256]   \n",
       "category                                                             0   \n",
       "collection                                                         NaN   \n",
       "cover                                                         329337.0   \n",
       "created_at                                                  1391651125   \n",
       "external_games                                 [35778, 128039, 247067]   \n",
       "first_release_date                                          2007-05-01   \n",
       "follows                                                            NaN   \n",
       "game_modes                                                      [1, 4]   \n",
       "genres                                                             [4]   \n",
       "involved_companies                                      [11970, 11971]   \n",
       "keywords                       [61, 997, 1440, 2387, 4286, 4359, 4891]   \n",
       "name                                              Legend of the Dragon   \n",
       "platforms                                                   [5, 8, 38]   \n",
       "player_perspectives                                                [4]   \n",
       "release_dates                                    [11451, 11452, 11453]   \n",
       "screenshots                            [27920, 336018, 336019, 336020]   \n",
       "similar_games        [4052, 4260, 5867, 6386, 14704, 26950, 72605, ...   \n",
       "slug                                              legend-of-the-dragon   \n",
       "summary              Legend of the Dragon is a 3D versus fighting g...   \n",
       "tags                 [1, 268435460, 536870973, 536871909, 536872352...   \n",
       "themes                                                             [1]   \n",
       "updated_at                                                  1694393987   \n",
       "url                    https://www.igdb.com/games/legend-of-the-dragon   \n",
       "websites                                                      [334269]   \n",
       "checksum                          e4c37e48-ce6e-2c17-b45a-de60b59cd9c3   \n",
       "total_rating                                                      30.0   \n",
       "total_rating_count                                                 1.0   \n",
       "rating_count                                                       NaN   \n",
       "console                                                            1.0   \n",
       "operating_system                                                   1.0   \n",
       "year                                                              2007   \n",
       "\n",
       "                                                                     4  \n",
       "Unnamed: 0                                                           4  \n",
       "id                                                                5549  \n",
       "age_ratings                                                     [2998]  \n",
       "category                                                             0  \n",
       "collection                                                       815.0  \n",
       "cover                                                           5630.0  \n",
       "created_at                                                  1394219557  \n",
       "external_games                                       [130300, 1191202]  \n",
       "first_release_date                                          2009-06-12  \n",
       "follows                                                            2.0  \n",
       "game_modes                                                         NaN  \n",
       "genres                                                            [13]  \n",
       "involved_companies                                             [13433]  \n",
       "keywords                    [1158, 4134, 4353, 4359, 4681, 4869, 9511]  \n",
       "name                                                         Railworks  \n",
       "platforms                                                          [6]  \n",
       "player_perspectives                                             [3, 4]  \n",
       "release_dates                                                  [13437]  \n",
       "screenshots                             [4411, 4412, 4413, 4414, 4415]  \n",
       "similar_games        [3700, 5548, 7046, 9066, 17130, 19376, 20776, ...  \n",
       "slug                                                         railworks  \n",
       "summary              RailWorks, later simply Train Simulator, is a ...  \n",
       "tags                 [268435469, 536872070, 536875046, 536875265, 5...  \n",
       "themes                                                             NaN  \n",
       "updated_at                                                  1686020735  \n",
       "url                               https://www.igdb.com/games/railworks  \n",
       "websites                                                [1263, 348033]  \n",
       "checksum                          52881f92-7845-6cae-4c7a-a687d72e0b6a  \n",
       "total_rating                                                      70.0  \n",
       "total_rating_count                                                 1.0  \n",
       "rating_count                                                       NaN  \n",
       "console                                                            0.0  \n",
       "operating_system                                                   1.0  \n",
       "year                                                              2009  "
      ]
     },
     "execution_count": 3,
     "metadata": {},
     "output_type": "execute_result"
    }
   ],
   "source": [
    "IGDB.head().T"
   ]
  },
  {
   "cell_type": "code",
   "execution_count": 4,
   "id": "55fdc427",
   "metadata": {},
   "outputs": [],
   "source": [
    "IGDB.drop('Unnamed: 0', axis=1, inplace=True)"
   ]
  },
  {
   "cell_type": "code",
   "execution_count": 5,
   "id": "f38d9db3",
   "metadata": {},
   "outputs": [
    {
     "data": {
      "text/plain": [
       "id                       int64\n",
       "age_ratings             object\n",
       "category                 int64\n",
       "collection             float64\n",
       "cover                  float64\n",
       "created_at               int64\n",
       "external_games          object\n",
       "first_release_date      object\n",
       "follows                float64\n",
       "game_modes              object\n",
       "genres                  object\n",
       "involved_companies      object\n",
       "keywords                object\n",
       "name                    object\n",
       "platforms               object\n",
       "player_perspectives     object\n",
       "release_dates           object\n",
       "screenshots             object\n",
       "similar_games           object\n",
       "slug                    object\n",
       "summary                 object\n",
       "tags                    object\n",
       "themes                  object\n",
       "updated_at               int64\n",
       "url                     object\n",
       "websites                object\n",
       "checksum                object\n",
       "total_rating           float64\n",
       "total_rating_count     float64\n",
       "rating_count           float64\n",
       "console                float64\n",
       "operating_system       float64\n",
       "year                     int64\n",
       "dtype: object"
      ]
     },
     "execution_count": 5,
     "metadata": {},
     "output_type": "execute_result"
    }
   ],
   "source": [
    "IGDB.dtypes"
   ]
  },
  {
   "cell_type": "code",
   "execution_count": 6,
   "id": "c0c94b08",
   "metadata": {},
   "outputs": [
    {
     "data": {
      "text/plain": [
       "(4265, 33)"
      ]
     },
     "execution_count": 6,
     "metadata": {},
     "output_type": "execute_result"
    }
   ],
   "source": [
    "IGDB.shape"
   ]
  },
  {
   "cell_type": "code",
   "execution_count": 7,
   "id": "4390ba6a",
   "metadata": {},
   "outputs": [
    {
     "data": {
      "text/plain": [
       "(2985.5, 1279.5)"
      ]
     },
     "execution_count": 7,
     "metadata": {},
     "output_type": "execute_result"
    }
   ],
   "source": [
    "len(IGDB) * .7, len(IGDB) * .3"
   ]
  },
  {
   "cell_type": "code",
   "execution_count": 8,
   "id": "83ac5337",
   "metadata": {},
   "outputs": [],
   "source": [
    "X_train, X_test, y_train, y_test = train_test_split(IGDB.drop(columns='total_rating'), \n",
    "                                                    IGDB.total_rating, test_size=0.3, \n",
    "                                                    random_state=47)"
   ]
  },
  {
   "cell_type": "code",
   "execution_count": 9,
   "id": "1a892bb7",
   "metadata": {},
   "outputs": [
    {
     "data": {
      "text/plain": [
       "((2985, 32), (1280, 32))"
      ]
     },
     "execution_count": 9,
     "metadata": {},
     "output_type": "execute_result"
    }
   ],
   "source": [
    "X_train.shape, X_test.shape"
   ]
  },
  {
   "cell_type": "code",
   "execution_count": 10,
   "id": "bf842ba3",
   "metadata": {},
   "outputs": [
    {
     "data": {
      "text/plain": [
       "((2985,), (1280,))"
      ]
     },
     "execution_count": 10,
     "metadata": {},
     "output_type": "execute_result"
    }
   ],
   "source": [
    "y_train.shape, y_test.shape"
   ]
  },
  {
   "cell_type": "code",
   "execution_count": 11,
   "id": "5c3ba91a",
   "metadata": {},
   "outputs": [],
   "source": [
    "#drop non-numeric columns from `X_train` and `X_test`.\n",
    "names_list = IGDB.select_dtypes(include=['object'])"
   ]
  },
  {
   "cell_type": "code",
   "execution_count": 12,
   "id": "6ab5a082",
   "metadata": {},
   "outputs": [],
   "source": [
    "names_list_columns = names_list.columns"
   ]
  },
  {
   "cell_type": "code",
   "execution_count": 13,
   "id": "156dc827",
   "metadata": {},
   "outputs": [
    {
     "data": {
      "text/plain": [
       "((2985, 12), (1280, 12))"
      ]
     },
     "execution_count": 13,
     "metadata": {},
     "output_type": "execute_result"
    }
   ],
   "source": [
    "names_train = X_train[names_list_columns]\n",
    "names_test = X_test[names_list_columns]\n",
    "X_train.drop(columns=names_list_columns, inplace=True)\n",
    "X_test.drop(columns=names_list_columns, inplace=True)\n",
    "X_train.shape, X_test.shape"
   ]
  },
  {
   "cell_type": "code",
   "execution_count": 14,
   "id": "30bf7e32",
   "metadata": {},
   "outputs": [
    {
     "data": {
      "text/plain": [
       "id                      int64\n",
       "category                int64\n",
       "collection            float64\n",
       "cover                 float64\n",
       "created_at              int64\n",
       "follows               float64\n",
       "updated_at              int64\n",
       "total_rating_count    float64\n",
       "rating_count          float64\n",
       "console               float64\n",
       "operating_system      float64\n",
       "year                    int64\n",
       "dtype: object"
      ]
     },
     "execution_count": 14,
     "metadata": {},
     "output_type": "execute_result"
    }
   ],
   "source": [
    "X_train.dtypes"
   ]
  },
  {
   "cell_type": "code",
   "execution_count": 15,
   "id": "8da5cc58",
   "metadata": {},
   "outputs": [
    {
     "data": {
      "text/plain": [
       "id                      int64\n",
       "category                int64\n",
       "collection            float64\n",
       "cover                 float64\n",
       "created_at              int64\n",
       "follows               float64\n",
       "updated_at              int64\n",
       "total_rating_count    float64\n",
       "rating_count          float64\n",
       "console               float64\n",
       "operating_system      float64\n",
       "year                    int64\n",
       "dtype: object"
      ]
     },
     "execution_count": 15,
     "metadata": {},
     "output_type": "execute_result"
    }
   ],
   "source": [
    "X_test.dtypes"
   ]
  },
  {
   "cell_type": "code",
   "execution_count": 16,
   "id": "38991e18",
   "metadata": {},
   "outputs": [
    {
     "data": {
      "text/plain": [
       "array([[69.06432161]])"
      ]
     },
     "execution_count": 16,
     "metadata": {},
     "output_type": "execute_result"
    }
   ],
   "source": [
    "dumb_reg = DummyRegressor(strategy='mean')\n",
    "dumb_reg.fit(X_train, y_train)\n",
    "dumb_reg.constant_"
   ]
  },
  {
   "cell_type": "code",
   "execution_count": 17,
   "id": "5979ad95",
   "metadata": {},
   "outputs": [
    {
     "data": {
      "text/plain": [
       "69.0643216080402"
      ]
     },
     "execution_count": 17,
     "metadata": {},
     "output_type": "execute_result"
    }
   ],
   "source": [
    "train_mean = y_train.mean()\n",
    "train_mean"
   ]
  },
  {
   "cell_type": "code",
   "execution_count": 18,
   "id": "30feebcf",
   "metadata": {},
   "outputs": [
    {
     "data": {
      "text/plain": [
       "array([69.06432161, 69.06432161, 69.06432161, 69.06432161, 69.06432161])"
      ]
     },
     "execution_count": 18,
     "metadata": {},
     "output_type": "execute_result"
    }
   ],
   "source": [
    "y_tr_pred_ = train_mean * np.ones(len(y_train))\n",
    "y_tr_pred_[:5]"
   ]
  },
  {
   "cell_type": "code",
   "execution_count": 19,
   "id": "411e5d93",
   "metadata": {},
   "outputs": [
    {
     "data": {
      "text/plain": [
       "array([69.06432161, 69.06432161, 69.06432161, 69.06432161, 69.06432161])"
      ]
     },
     "execution_count": 19,
     "metadata": {},
     "output_type": "execute_result"
    }
   ],
   "source": [
    "y_tr_pred = dumb_reg.predict(X_train)\n",
    "y_tr_pred[:5]"
   ]
  },
  {
   "cell_type": "code",
   "execution_count": 20,
   "id": "fb78a9e0",
   "metadata": {},
   "outputs": [],
   "source": [
    "y_te_pred = train_mean * np.ones(len(y_test))"
   ]
  },
  {
   "cell_type": "code",
   "execution_count": 21,
   "id": "0e5b4f22",
   "metadata": {},
   "outputs": [
    {
     "data": {
      "text/plain": [
       "(0.0, -0.00024439880428972494)"
      ]
     },
     "execution_count": 21,
     "metadata": {},
     "output_type": "execute_result"
    }
   ],
   "source": [
    "r2_score(y_train, y_tr_pred), r2_score(y_test, y_te_pred)"
   ]
  },
  {
   "cell_type": "code",
   "execution_count": 22,
   "id": "0937e251",
   "metadata": {},
   "outputs": [
    {
     "data": {
      "text/plain": [
       "(10.976166595119652, 10.723575690954773)"
      ]
     },
     "execution_count": 22,
     "metadata": {},
     "output_type": "execute_result"
    }
   ],
   "source": [
    "mean_absolute_error(y_train, y_tr_pred), mean_absolute_error(y_test, y_te_pred)"
   ]
  },
  {
   "cell_type": "code",
   "execution_count": 23,
   "id": "6d3e7188",
   "metadata": {},
   "outputs": [
    {
     "data": {
      "text/plain": [
       "(205.6240034342567, 195.37713035971314)"
      ]
     },
     "execution_count": 23,
     "metadata": {},
     "output_type": "execute_result"
    }
   ],
   "source": [
    "mean_squared_error(y_train, y_tr_pred), mean_squared_error(y_test, y_te_pred)"
   ]
  },
  {
   "cell_type": "code",
   "execution_count": null,
   "id": "ddfefe1e",
   "metadata": {},
   "outputs": [],
   "source": []
  }
 ],
 "metadata": {
  "kernelspec": {
   "display_name": "Python 3 (ipykernel)",
   "language": "python",
   "name": "python3"
  },
  "language_info": {
   "codemirror_mode": {
    "name": "ipython",
    "version": 3
   },
   "file_extension": ".py",
   "mimetype": "text/x-python",
   "name": "python",
   "nbconvert_exporter": "python",
   "pygments_lexer": "ipython3",
   "version": "3.9.13"
  }
 },
 "nbformat": 4,
 "nbformat_minor": 5
}
