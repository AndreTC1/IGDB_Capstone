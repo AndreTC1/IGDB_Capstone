{
 "cells": [
  {
   "cell_type": "markdown",
   "id": "dd767df3",
   "metadata": {},
   "source": [
    "## Modeling \n",
    "In this notebook we start to build machine learning models. We check both mean and median imputation for NaN values. Use pipeline and use GridSearch to identify the best K for our model. Then we will determined best model by assesing their performance. "
   ]
  },
  {
   "cell_type": "markdown",
   "id": "40071555",
   "metadata": {},
   "source": [
    "## Imports"
   ]
  },
  {
   "cell_type": "code",
   "execution_count": 1,
   "id": "06a428f8",
   "metadata": {},
   "outputs": [],
   "source": [
    "import pandas as pd\n",
    "import numpy as np\n",
    "import os\n",
    "import pickle\n",
    "import matplotlib.pyplot as plt\n",
    "import seaborn as sns\n",
    "from sklearn import __version__ as sklearn_version\n",
    "from sklearn.decomposition import PCA\n",
    "from sklearn.preprocessing import scale\n",
    "from sklearn.model_selection import train_test_split, cross_validate, GridSearchCV, learning_curve\n",
    "from sklearn.preprocessing import StandardScaler, MinMaxScaler\n",
    "from sklearn.dummy import DummyRegressor\n",
    "from sklearn.linear_model import LinearRegression\n",
    "from sklearn.ensemble import RandomForestRegressor\n",
    "from sklearn.metrics import r2_score, mean_squared_error, mean_absolute_error\n",
    "from sklearn.pipeline import make_pipeline\n",
    "from sklearn.impute import SimpleImputer\n",
    "from sklearn.feature_selection import SelectKBest, f_regression\n",
    "import datetime\n"
   ]
  },
  {
   "cell_type": "markdown",
   "id": "60ee9c3b",
   "metadata": {},
   "source": [
    "## Load Data "
   ]
  },
  {
   "cell_type": "code",
   "execution_count": 2,
   "id": "169c8b3a",
   "metadata": {},
   "outputs": [],
   "source": [
    "IGDB = pd.read_csv('./data/IGDB_pre_processing.csv')"
   ]
  },
  {
   "cell_type": "code",
   "execution_count": 3,
   "id": "13cf0da3",
   "metadata": {},
   "outputs": [],
   "source": [
    "IGDB.drop('Unnamed: 0', axis=1, inplace=True)"
   ]
  },
  {
   "cell_type": "code",
   "execution_count": 4,
   "id": "f38d9db3",
   "metadata": {},
   "outputs": [
    {
     "data": {
      "text/plain": [
       "id                       int64\n",
       "age_ratings             object\n",
       "category                 int64\n",
       "collection             float64\n",
       "cover                  float64\n",
       "created_at               int64\n",
       "external_games          object\n",
       "first_release_date      object\n",
       "follows                float64\n",
       "game_modes              object\n",
       "genres                  object\n",
       "involved_companies      object\n",
       "keywords                object\n",
       "name                    object\n",
       "platforms               object\n",
       "player_perspectives     object\n",
       "release_dates           object\n",
       "screenshots             object\n",
       "similar_games           object\n",
       "slug                    object\n",
       "summary                 object\n",
       "tags                    object\n",
       "themes                  object\n",
       "updated_at               int64\n",
       "url                     object\n",
       "websites                object\n",
       "checksum                object\n",
       "total_rating           float64\n",
       "total_rating_count     float64\n",
       "rating_count           float64\n",
       "console                float64\n",
       "operating_system       float64\n",
       "year                     int64\n",
       "dtype: object"
      ]
     },
     "execution_count": 4,
     "metadata": {},
     "output_type": "execute_result"
    }
   ],
   "source": [
    "IGDB.dtypes"
   ]
  },
  {
   "cell_type": "code",
   "execution_count": 5,
   "id": "c0c94b08",
   "metadata": {},
   "outputs": [
    {
     "data": {
      "text/plain": [
       "(4265, 33)"
      ]
     },
     "execution_count": 5,
     "metadata": {},
     "output_type": "execute_result"
    }
   ],
   "source": [
    "IGDB.shape"
   ]
  },
  {
   "cell_type": "markdown",
   "id": "5063ac92",
   "metadata": {},
   "source": [
    "### Train/Test split"
   ]
  },
  {
   "cell_type": "code",
   "execution_count": 6,
   "id": "83ac5337",
   "metadata": {},
   "outputs": [],
   "source": [
    "X_train, X_test, y_train, y_test = train_test_split(IGDB.drop(columns='total_rating'), \n",
    "                                                    IGDB.total_rating, test_size=0.3, \n",
    "                                                    random_state=47)"
   ]
  },
  {
   "cell_type": "code",
   "execution_count": 7,
   "id": "1a892bb7",
   "metadata": {},
   "outputs": [
    {
     "data": {
      "text/plain": [
       "((2985, 32), (1280, 32), (2985,), (1280,))"
      ]
     },
     "execution_count": 7,
     "metadata": {},
     "output_type": "execute_result"
    }
   ],
   "source": [
    "X_train.shape, X_test.shape, y_train.shape, y_test.shape"
   ]
  },
  {
   "cell_type": "code",
   "execution_count": 8,
   "id": "5c3ba91a",
   "metadata": {},
   "outputs": [],
   "source": [
    "#drop non-numeric columns from `X_train` and `X_test`. Use 'inplace=True'\n",
    "names_list = IGDB.select_dtypes(include=['object'])"
   ]
  },
  {
   "cell_type": "code",
   "execution_count": 9,
   "id": "6ab5a082",
   "metadata": {},
   "outputs": [],
   "source": [
    "names_list_columns = names_list.columns"
   ]
  },
  {
   "cell_type": "code",
   "execution_count": 10,
   "id": "156dc827",
   "metadata": {},
   "outputs": [
    {
     "data": {
      "text/plain": [
       "((2985, 12), (1280, 12))"
      ]
     },
     "execution_count": 10,
     "metadata": {},
     "output_type": "execute_result"
    }
   ],
   "source": [
    "names_train = X_train[names_list_columns]\n",
    "names_test = X_test[names_list_columns]\n",
    "X_train.drop(columns=names_list_columns, inplace=True)\n",
    "X_test.drop(columns=names_list_columns, inplace=True)\n",
    "X_train.shape, X_test.shape"
   ]
  },
  {
   "cell_type": "code",
   "execution_count": 11,
   "id": "30bf7e32",
   "metadata": {},
   "outputs": [
    {
     "data": {
      "text/plain": [
       "id                      int64\n",
       "category                int64\n",
       "collection            float64\n",
       "cover                 float64\n",
       "created_at              int64\n",
       "follows               float64\n",
       "updated_at              int64\n",
       "total_rating_count    float64\n",
       "rating_count          float64\n",
       "console               float64\n",
       "operating_system      float64\n",
       "year                    int64\n",
       "dtype: object"
      ]
     },
     "execution_count": 11,
     "metadata": {},
     "output_type": "execute_result"
    }
   ],
   "source": [
    "X_train.dtypes"
   ]
  },
  {
   "cell_type": "code",
   "execution_count": 12,
   "id": "8da5cc58",
   "metadata": {},
   "outputs": [
    {
     "data": {
      "text/plain": [
       "id                      int64\n",
       "category                int64\n",
       "collection            float64\n",
       "cover                 float64\n",
       "created_at              int64\n",
       "follows               float64\n",
       "updated_at              int64\n",
       "total_rating_count    float64\n",
       "rating_count          float64\n",
       "console               float64\n",
       "operating_system      float64\n",
       "year                    int64\n",
       "dtype: object"
      ]
     },
     "execution_count": 12,
     "metadata": {},
     "output_type": "execute_result"
    }
   ],
   "source": [
    "X_test.dtypes"
   ]
  },
  {
   "cell_type": "markdown",
   "id": "79e56996",
   "metadata": {},
   "source": [
    "We only have numeric features in X now. "
   ]
  },
  {
   "cell_type": "markdown",
   "id": "b27d8646",
   "metadata": {},
   "source": [
    "### Mean as a predictor"
   ]
  },
  {
   "cell_type": "code",
   "execution_count": 13,
   "id": "38991e18",
   "metadata": {},
   "outputs": [
    {
     "data": {
      "text/plain": [
       "array([[69.06432161]])"
      ]
     },
     "execution_count": 13,
     "metadata": {},
     "output_type": "execute_result"
    }
   ],
   "source": [
    "# Fitting dummy regressor on the training data\n",
    "dumb_reg = DummyRegressor(strategy='mean')\n",
    "dumb_reg.fit(X_train, y_train)\n",
    "dumb_reg.constant_"
   ]
  },
  {
   "cell_type": "markdown",
   "id": "47228fab",
   "metadata": {},
   "source": [
    "Checking performance metrics of using the mean as a predictor for a game's rating "
   ]
  },
  {
   "cell_type": "code",
   "execution_count": 14,
   "id": "5979ad95",
   "metadata": {},
   "outputs": [
    {
     "data": {
      "text/plain": [
       "69.0643216080402"
      ]
     },
     "execution_count": 14,
     "metadata": {},
     "output_type": "execute_result"
    }
   ],
   "source": [
    "train_mean = y_train.mean()\n",
    "train_mean"
   ]
  },
  {
   "cell_type": "code",
   "execution_count": 15,
   "id": "30feebcf",
   "metadata": {},
   "outputs": [
    {
     "data": {
      "text/plain": [
       "array([69.06432161, 69.06432161, 69.06432161, 69.06432161, 69.06432161])"
      ]
     },
     "execution_count": 15,
     "metadata": {},
     "output_type": "execute_result"
    }
   ],
   "source": [
    "y_tr_pred = train_mean * np.ones(len(y_train))\n",
    "y_tr_pred[:5]"
   ]
  },
  {
   "cell_type": "code",
   "execution_count": 16,
   "id": "fb78a9e0",
   "metadata": {},
   "outputs": [],
   "source": [
    "y_te_pred = train_mean * np.ones(len(y_test))"
   ]
  },
  {
   "cell_type": "code",
   "execution_count": 17,
   "id": "0e5b4f22",
   "metadata": {},
   "outputs": [
    {
     "data": {
      "text/plain": [
       "(0.0, -0.00024439880428972494)"
      ]
     },
     "execution_count": 17,
     "metadata": {},
     "output_type": "execute_result"
    }
   ],
   "source": [
    "r2_score(y_train, y_tr_pred), r2_score(y_test, y_te_pred)"
   ]
  },
  {
   "cell_type": "code",
   "execution_count": 18,
   "id": "0937e251",
   "metadata": {},
   "outputs": [
    {
     "data": {
      "text/plain": [
       "(10.976166595119652, 10.723575690954773)"
      ]
     },
     "execution_count": 18,
     "metadata": {},
     "output_type": "execute_result"
    }
   ],
   "source": [
    "mean_absolute_error(y_train, y_tr_pred), mean_absolute_error(y_test, y_te_pred)"
   ]
  },
  {
   "cell_type": "markdown",
   "id": "7f8b46dd",
   "metadata": {},
   "source": [
    "With this method we might expect to be off by around 10-11 points in rating if guessing the game rating on an average of known values "
   ]
  },
  {
   "cell_type": "code",
   "execution_count": 19,
   "id": "6d3e7188",
   "metadata": {},
   "outputs": [
    {
     "data": {
      "text/plain": [
       "(205.6240034342567, 195.37713035971314)"
      ]
     },
     "execution_count": 19,
     "metadata": {},
     "output_type": "execute_result"
    }
   ],
   "source": [
    "mean_squared_error(y_train, y_tr_pred), mean_squared_error(y_test, y_te_pred)"
   ]
  },
  {
   "cell_type": "markdown",
   "id": "06cee79b",
   "metadata": {},
   "source": [
    "We get a slightly better MSE on the test set thn the train set. "
   ]
  },
  {
   "cell_type": "markdown",
   "id": "2516d142",
   "metadata": {},
   "source": [
    "## Initial Models"
   ]
  },
  {
   "cell_type": "markdown",
   "id": "fc12a918",
   "metadata": {},
   "source": [
    "### Imputing missing values with the median"
   ]
  },
  {
   "cell_type": "code",
   "execution_count": 21,
   "id": "b7c3f4a3",
   "metadata": {},
   "outputs": [
    {
     "data": {
      "text/plain": [
       "id                    4.681000e+03\n",
       "category              0.000000e+00\n",
       "collection            7.770000e+02\n",
       "cover                 1.176120e+05\n",
       "created_at            1.391049e+09\n",
       "follows               6.000000e+00\n",
       "updated_at            1.693550e+09\n",
       "total_rating_count    1.500000e+01\n",
       "rating_count          1.600000e+01\n",
       "console               1.000000e+00\n",
       "operating_system      1.000000e+00\n",
       "year                  2.006000e+03\n",
       "dtype: float64"
      ]
     },
     "execution_count": 21,
     "metadata": {},
     "output_type": "execute_result"
    }
   ],
   "source": [
    "# imputing missing values: check median \n",
    "X_defaults_median = X_train.median()\n",
    "X_defaults_median"
   ]
  },
  {
   "cell_type": "code",
   "execution_count": 22,
   "id": "91226e68",
   "metadata": {},
   "outputs": [],
   "source": [
    "#Applying the imputation to both tran and test splits \n",
    "X_tr = X_train.fillna(X_defaults_median)\n",
    "X_te = X_test.fillna(X_defaults_median)"
   ]
  },
  {
   "cell_type": "code",
   "execution_count": 23,
   "id": "1075d466",
   "metadata": {},
   "outputs": [],
   "source": [
    "#Scaling the data to put them all on a consisten scale.\n",
    "scaler = StandardScaler()\n",
    "scaler.fit(X_tr)\n",
    "X_tr_scaled = scaler.transform(X_tr)\n",
    "X_te_scaled = scaler.transform(X_te)"
   ]
  },
  {
   "cell_type": "markdown",
   "id": "e29b9a47",
   "metadata": {},
   "source": [
    "#### Training the model on the tran split "
   ]
  },
  {
   "cell_type": "code",
   "execution_count": 24,
   "id": "df8d805f",
   "metadata": {},
   "outputs": [],
   "source": [
    "lm = LinearRegression().fit(X_tr_scaled, y_train)"
   ]
  },
  {
   "cell_type": "code",
   "execution_count": 25,
   "id": "02c7b28d",
   "metadata": {},
   "outputs": [],
   "source": [
    "# Making preditions using the model \n",
    "y_tr_pred = lm.predict(X_tr_scaled)\n",
    "y_te_pred = lm.predict(X_te_scaled)"
   ]
  },
  {
   "cell_type": "markdown",
   "id": "8b12bce6",
   "metadata": {},
   "source": [
    "#### Assesing model performance "
   ]
  },
  {
   "cell_type": "code",
   "execution_count": 26,
   "id": "eb4dc9d9",
   "metadata": {},
   "outputs": [
    {
     "data": {
      "text/plain": [
       "(0.15404282386988033, 0.15191237916366784)"
      ]
     },
     "execution_count": 26,
     "metadata": {},
     "output_type": "execute_result"
    }
   ],
   "source": [
    "# Assess model performance \n",
    "median_r2 = r2_score(y_train, y_tr_pred), r2_score(y_test, y_te_pred)\n",
    "median_r2"
   ]
  },
  {
   "cell_type": "code",
   "execution_count": 27,
   "id": "a2004f0c",
   "metadata": {},
   "outputs": [
    {
     "data": {
      "text/plain": [
       "(10.04083558648435, 9.88464626582542)"
      ]
     },
     "execution_count": 27,
     "metadata": {},
     "output_type": "execute_result"
    }
   ],
   "source": [
    "median_mae = mean_absolute_error(y_train, y_tr_pred), mean_absolute_error(y_test, y_te_pred)\n",
    "median_mae"
   ]
  },
  {
   "cell_type": "markdown",
   "id": "e89043c0",
   "metadata": {},
   "source": [
    "Using this model, on average we expect to estimate a game rating within 10 points or so of the true rating. This is just slightly better than from guessing the average. "
   ]
  },
  {
   "cell_type": "code",
   "execution_count": 28,
   "id": "afc5f256",
   "metadata": {},
   "outputs": [
    {
     "data": {
      "text/plain": [
       "(173.94910128981385, 165.65643941688268)"
      ]
     },
     "execution_count": 28,
     "metadata": {},
     "output_type": "execute_result"
    }
   ],
   "source": [
    "median_mse = mean_squared_error(y_train, y_tr_pred), mean_squared_error(y_test, y_te_pred)\n",
    "median_mse"
   ]
  },
  {
   "cell_type": "markdown",
   "id": "19816e2b",
   "metadata": {},
   "source": [
    "### Imputing missing values with the mean "
   ]
  },
  {
   "cell_type": "code",
   "execution_count": 29,
   "id": "96ffe1cc",
   "metadata": {},
   "outputs": [
    {
     "data": {
      "text/plain": [
       "id                    4.770503e+03\n",
       "category              4.569514e-01\n",
       "collection            1.639477e+03\n",
       "cover                 1.421137e+05\n",
       "created_at            1.382787e+09\n",
       "follows               2.812309e+01\n",
       "updated_at            1.692100e+09\n",
       "total_rating_count    6.961206e+01\n",
       "rating_count          7.425878e+01\n",
       "console               7.942359e-01\n",
       "operating_system      6.816354e-01\n",
       "year                  2.002724e+03\n",
       "dtype: float64"
      ]
     },
     "execution_count": 29,
     "metadata": {},
     "output_type": "execute_result"
    }
   ],
   "source": [
    "# imputing missing values: check mean\n",
    "X_defaults_mean = X_train.mean()\n",
    "X_defaults_mean"
   ]
  },
  {
   "cell_type": "markdown",
   "id": "1b57f15d",
   "metadata": {},
   "source": [
    "By eye, some replacement values are higher than using the median. "
   ]
  },
  {
   "cell_type": "code",
   "execution_count": 30,
   "id": "c2fcf950",
   "metadata": {},
   "outputs": [],
   "source": [
    "# Applying imputation to both train and test split\n",
    "X_tr = X_train.fillna(X_defaults_mean)\n",
    "X_te = X_test.fillna(X_defaults_mean)"
   ]
  },
  {
   "cell_type": "code",
   "execution_count": 31,
   "id": "f177640e",
   "metadata": {},
   "outputs": [],
   "source": [
    "#Scaling the data \n",
    "scaler = StandardScaler()\n",
    "scaler.fit(X_tr)\n",
    "X_tr_scaled = scaler.transform(X_tr)\n",
    "X_te_scaled = scaler.transform(X_te)"
   ]
  },
  {
   "cell_type": "code",
   "execution_count": 32,
   "id": "24f1bbc9",
   "metadata": {},
   "outputs": [],
   "source": [
    "# Training the model \n",
    "lm = LinearRegression().fit(X_tr_scaled, y_train)"
   ]
  },
  {
   "cell_type": "code",
   "execution_count": 33,
   "id": "1d930234",
   "metadata": {},
   "outputs": [],
   "source": [
    "#Making predictions \n",
    "y_tr_pred = lm.predict(X_tr_scaled)\n",
    "y_te_pred = lm.predict(X_te_scaled)"
   ]
  },
  {
   "cell_type": "code",
   "execution_count": 34,
   "id": "1cd1a753",
   "metadata": {},
   "outputs": [
    {
     "data": {
      "text/plain": [
       "(0.16892109891438334, 0.16525197272986913)"
      ]
     },
     "execution_count": 34,
     "metadata": {},
     "output_type": "execute_result"
    }
   ],
   "source": [
    "# Assess model performance \n",
    "r2_score(y_train, y_tr_pred), r2_score(y_test, y_te_pred)"
   ]
  },
  {
   "cell_type": "code",
   "execution_count": 35,
   "id": "620aa430",
   "metadata": {},
   "outputs": [
    {
     "data": {
      "text/plain": [
       "(9.90754181976817, 9.781353649946801)"
      ]
     },
     "execution_count": 35,
     "metadata": {},
     "output_type": "execute_result"
    }
   ],
   "source": [
    "mean_absolute_error(y_train, y_tr_pred), mean_absolute_error(y_test, y_te_pred)"
   ]
  },
  {
   "cell_type": "code",
   "execution_count": 36,
   "id": "6a528579",
   "metadata": {},
   "outputs": [
    {
     "data": {
      "text/plain": [
       "(170.88977081096715, 163.050824714871)"
      ]
     },
     "execution_count": 36,
     "metadata": {},
     "output_type": "execute_result"
    }
   ],
   "source": [
    "mean_squared_error(y_train, y_tr_pred), mean_squared_error(y_test, y_te_pred)"
   ]
  },
  {
   "cell_type": "markdown",
   "id": "ade11bc6",
   "metadata": {},
   "source": [
    "These results are slightly better that using the median. "
   ]
  },
  {
   "cell_type": "markdown",
   "id": "4d69c634",
   "metadata": {},
   "source": [
    "## Linear Model using pipeline"
   ]
  },
  {
   "cell_type": "code",
   "execution_count": 37,
   "id": "7c6f4190",
   "metadata": {},
   "outputs": [],
   "source": [
    "#Defining pipeline \n",
    "pipe = make_pipeline(\n",
    "    SimpleImputer(strategy='median'), \n",
    "    StandardScaler(), \n",
    "    LinearRegression()\n",
    ")"
   ]
  },
  {
   "cell_type": "code",
   "execution_count": 38,
   "id": "82f53a47",
   "metadata": {},
   "outputs": [
    {
     "data": {
      "text/plain": [
       "Pipeline(steps=[('simpleimputer', SimpleImputer(strategy='median')),\n",
       "                ('standardscaler', StandardScaler()),\n",
       "                ('linearregression', LinearRegression())])"
      ]
     },
     "execution_count": 38,
     "metadata": {},
     "output_type": "execute_result"
    }
   ],
   "source": [
    "pipe.fit(X_train, y_train)"
   ]
  },
  {
   "cell_type": "code",
   "execution_count": 39,
   "id": "4ccf2dbe",
   "metadata": {},
   "outputs": [],
   "source": [
    "y_tr_pred = pipe.predict(X_train)\n",
    "y_te_pred = pipe.predict(X_test)"
   ]
  },
  {
   "cell_type": "code",
   "execution_count": 40,
   "id": "2b23c58a",
   "metadata": {},
   "outputs": [
    {
     "data": {
      "text/plain": [
       "(0.15404282386988033, 0.15191237916366784)"
      ]
     },
     "execution_count": 40,
     "metadata": {},
     "output_type": "execute_result"
    }
   ],
   "source": [
    "# Assess performance\n",
    "r2_score(y_train, y_tr_pred), r2_score(y_test, y_te_pred)"
   ]
  },
  {
   "cell_type": "code",
   "execution_count": 41,
   "id": "0cb7bd14",
   "metadata": {},
   "outputs": [
    {
     "data": {
      "text/plain": [
       "(10.04083558648435, 9.88464626582542)"
      ]
     },
     "execution_count": 41,
     "metadata": {},
     "output_type": "execute_result"
    }
   ],
   "source": [
    "mean_absolute_error(y_train, y_tr_pred), mean_absolute_error(y_test, y_te_pred)"
   ]
  },
  {
   "cell_type": "code",
   "execution_count": 42,
   "id": "f38e7d52",
   "metadata": {},
   "outputs": [
    {
     "data": {
      "text/plain": [
       "(173.94910128981385, 165.65643941688268)"
      ]
     },
     "execution_count": 42,
     "metadata": {},
     "output_type": "execute_result"
    }
   ],
   "source": [
    "mean_squared_error(y_train, y_tr_pred), mean_squared_error(y_test, y_te_pred)"
   ]
  },
  {
   "cell_type": "markdown",
   "id": "66be1302",
   "metadata": {},
   "source": [
    "Results are the same as above but much quicker with pipeline. "
   ]
  },
  {
   "cell_type": "code",
   "execution_count": 43,
   "id": "05a9ceb0",
   "metadata": {},
   "outputs": [],
   "source": [
    "# pipeline with f_regression \n",
    "pipe = make_pipeline(\n",
    "    SimpleImputer(strategy='median'), \n",
    "    StandardScaler(),\n",
    "    SelectKBest(f_regression),\n",
    "    LinearRegression()\n",
    ")"
   ]
  },
  {
   "cell_type": "code",
   "execution_count": 44,
   "id": "5dcd23ff",
   "metadata": {},
   "outputs": [
    {
     "data": {
      "text/plain": [
       "Pipeline(steps=[('simpleimputer', SimpleImputer(strategy='median')),\n",
       "                ('standardscaler', StandardScaler()),\n",
       "                ('selectkbest',\n",
       "                 SelectKBest(score_func=<function f_regression at 0x7f8c31969c10>)),\n",
       "                ('linearregression', LinearRegression())])"
      ]
     },
     "execution_count": 44,
     "metadata": {},
     "output_type": "execute_result"
    }
   ],
   "source": [
    "pipe.fit(X_train, y_train)"
   ]
  },
  {
   "cell_type": "code",
   "execution_count": 45,
   "id": "0fb4e1bf",
   "metadata": {},
   "outputs": [],
   "source": [
    "y_tr_pred = pipe.predict(X_train)\n",
    "y_te_pred = pipe.predict(X_test)"
   ]
  },
  {
   "cell_type": "code",
   "execution_count": 46,
   "id": "0ad915eb",
   "metadata": {},
   "outputs": [
    {
     "data": {
      "text/plain": [
       "(0.15313562758505683, 0.15249867862958266)"
      ]
     },
     "execution_count": 46,
     "metadata": {},
     "output_type": "execute_result"
    }
   ],
   "source": [
    "r2_score(y_train, y_tr_pred), r2_score(y_test, y_te_pred)"
   ]
  },
  {
   "cell_type": "code",
   "execution_count": 47,
   "id": "76788965",
   "metadata": {},
   "outputs": [
    {
     "data": {
      "text/plain": [
       "(10.041571518485952, 9.880472326045497)"
      ]
     },
     "execution_count": 47,
     "metadata": {},
     "output_type": "execute_result"
    }
   ],
   "source": [
    "mean_absolute_error(y_train, y_tr_pred), mean_absolute_error(y_test, y_te_pred)"
   ]
  },
  {
   "cell_type": "markdown",
   "id": "0b561baa",
   "metadata": {},
   "source": [
    "The difference is almost inperceptable. We will check which K is best "
   ]
  },
  {
   "cell_type": "markdown",
   "id": "c6661737",
   "metadata": {},
   "source": [
    "### Hyperparameter search using GridSearchCV"
   ]
  },
  {
   "cell_type": "code",
   "execution_count": 48,
   "id": "32d02f67",
   "metadata": {},
   "outputs": [
    {
     "data": {
      "text/plain": [
       "dict_keys(['memory', 'steps', 'verbose', 'simpleimputer', 'standardscaler', 'selectkbest', 'linearregression', 'simpleimputer__add_indicator', 'simpleimputer__copy', 'simpleimputer__fill_value', 'simpleimputer__missing_values', 'simpleimputer__strategy', 'simpleimputer__verbose', 'standardscaler__copy', 'standardscaler__with_mean', 'standardscaler__with_std', 'selectkbest__k', 'selectkbest__score_func', 'linearregression__copy_X', 'linearregression__fit_intercept', 'linearregression__n_jobs', 'linearregression__normalize', 'linearregression__positive'])"
      ]
     },
     "execution_count": 48,
     "metadata": {},
     "output_type": "execute_result"
    }
   ],
   "source": [
    "#Available parameters \n",
    "pipe.get_params().keys()"
   ]
  },
  {
   "cell_type": "code",
   "execution_count": 49,
   "id": "66c16d47",
   "metadata": {},
   "outputs": [],
   "source": [
    "k = [k+1 for k in range(len(X_train.columns))]\n",
    "grid_params = {'selectkbest__k': k}"
   ]
  },
  {
   "cell_type": "code",
   "execution_count": 50,
   "id": "07279107",
   "metadata": {},
   "outputs": [],
   "source": [
    "lr_grid_cv = GridSearchCV(pipe, param_grid=grid_params, cv=5, n_jobs=-1)"
   ]
  },
  {
   "cell_type": "code",
   "execution_count": 51,
   "id": "231096d8",
   "metadata": {},
   "outputs": [
    {
     "data": {
      "text/plain": [
       "GridSearchCV(cv=5,\n",
       "             estimator=Pipeline(steps=[('simpleimputer',\n",
       "                                        SimpleImputer(strategy='median')),\n",
       "                                       ('standardscaler', StandardScaler()),\n",
       "                                       ('selectkbest',\n",
       "                                        SelectKBest(score_func=<function f_regression at 0x7f8c31969c10>)),\n",
       "                                       ('linearregression',\n",
       "                                        LinearRegression())]),\n",
       "             n_jobs=-1,\n",
       "             param_grid={'selectkbest__k': [1, 2, 3, 4, 5, 6, 7, 8, 9, 10, 11,\n",
       "                                            12]})"
      ]
     },
     "execution_count": 51,
     "metadata": {},
     "output_type": "execute_result"
    }
   ],
   "source": [
    "lr_grid_cv.fit(X_train, y_train)"
   ]
  },
  {
   "cell_type": "code",
   "execution_count": 52,
   "id": "9195f78e",
   "metadata": {},
   "outputs": [],
   "source": [
    "score_mean = lr_grid_cv.cv_results_['mean_test_score']\n",
    "score_std = lr_grid_cv.cv_results_['std_test_score']\n",
    "cv_k = [k for k in lr_grid_cv.cv_results_['param_selectkbest__k']]"
   ]
  },
  {
   "cell_type": "code",
   "execution_count": 53,
   "id": "54ae219c",
   "metadata": {},
   "outputs": [
    {
     "data": {
      "text/plain": [
       "{'selectkbest__k': 10}"
      ]
     },
     "execution_count": 53,
     "metadata": {},
     "output_type": "execute_result"
    }
   ],
   "source": [
    "lr_grid_cv.best_params_"
   ]
  },
  {
   "cell_type": "code",
   "execution_count": 54,
   "id": "113cf275",
   "metadata": {},
   "outputs": [
    {
     "data": {
      "image/png": "[encoded data removed]",
      "text/plain": [
       "<Figure size 1000x500 with 1 Axes>"
      ]
     },
     "metadata": {},
     "output_type": "display_data"
    }
   ],
   "source": [
    "best_k = lr_grid_cv.best_params_['selectkbest__k']\n",
    "plt.subplots(figsize=(10, 5))\n",
    "plt.errorbar(cv_k, score_mean, yerr=score_std)\n",
    "plt.axvline(x=best_k, c='r', ls='--', alpha=.5)\n",
    "plt.xlabel('k')\n",
    "plt.ylabel('CV score (r-squared)')\n",
    "plt.title('Pipeline mean CV score (error bars +/- 1sd)');"
   ]
  },
  {
   "cell_type": "markdown",
   "id": "d9f69bb6",
   "metadata": {},
   "source": [
    "The above suggests a good value for K is 10. There was an initial rapid increase with k followed by a slight decline. Visually, the variance of the results does not seem to significantly increase as K increases. "
   ]
  },
  {
   "cell_type": "code",
   "execution_count": 55,
   "id": "a67de50a",
   "metadata": {},
   "outputs": [],
   "source": [
    "selected = lr_grid_cv.best_estimator_.named_steps.selectkbest.get_support()"
   ]
  },
  {
   "cell_type": "code",
   "execution_count": 56,
   "id": "23bf23ab",
   "metadata": {},
   "outputs": [
    {
     "data": {
      "text/plain": [
       "total_rating_count    84.173306\n",
       "id                     2.028333\n",
       "category               1.160894\n",
       "console                0.647866\n",
       "updated_at             0.548299\n",
       "operating_system       0.484928\n",
       "collection            -0.697265\n",
       "follows               -2.620646\n",
       "created_at            -4.027832\n",
       "rating_count         -78.771101\n",
       "dtype: float64"
      ]
     },
     "execution_count": 56,
     "metadata": {},
     "output_type": "execute_result"
    }
   ],
   "source": [
    "coefs = lr_grid_cv.best_estimator_.named_steps.linearregression.coef_\n",
    "features = X_train.columns[selected]\n",
    "pd.Series(coefs, index=features).sort_values(ascending=False)"
   ]
  },
  {
   "cell_type": "markdown",
   "id": "201c6dc8",
   "metadata": {},
   "source": [
    "This suggests that total rating count is our biggest positive feature. This makes intuitive sense as people tend to take more time to rate games they find great or terrible. It is also consistent with what was seen during EDA work. The other positive features are id and category followed by console, updated at and operating system. "
   ]
  },
  {
   "cell_type": "markdown",
   "id": "60b9b1d2",
   "metadata": {},
   "source": [
    "## Random Forest "
   ]
  },
  {
   "cell_type": "code",
   "execution_count": 57,
   "id": "31725e3f",
   "metadata": {},
   "outputs": [],
   "source": [
    "#Random Foresst Regressor\n",
    "RF_pipe = make_pipeline(\n",
    "    SimpleImputer(strategy='median'),\n",
    "    StandardScaler(),\n",
    "    RandomForestRegressor(random_state=47)\n",
    ")"
   ]
  },
  {
   "cell_type": "code",
   "execution_count": 58,
   "id": "1220ff78",
   "metadata": {},
   "outputs": [],
   "source": [
    "#Fit and assess performance\n",
    "rf_default_cv_results = cross_validate(RF_pipe, X_train, y_train, cv=5)"
   ]
  },
  {
   "cell_type": "code",
   "execution_count": 59,
   "id": "344757ea",
   "metadata": {},
   "outputs": [
    {
     "data": {
      "text/plain": [
       "array([0.33072745, 0.29132572, 0.27254468, 0.27488803, 0.31771359])"
      ]
     },
     "execution_count": 59,
     "metadata": {},
     "output_type": "execute_result"
    }
   ],
   "source": [
    "rf_cv_scores = rf_default_cv_results['test_score']\n",
    "rf_cv_scores"
   ]
  },
  {
   "cell_type": "code",
   "execution_count": 60,
   "id": "4a781cf0",
   "metadata": {
    "scrolled": true
   },
   "outputs": [
    {
     "data": {
      "text/plain": [
       "(0.2974398946266181, 0.02317250919358801)"
      ]
     },
     "execution_count": 60,
     "metadata": {},
     "output_type": "execute_result"
    }
   ],
   "source": [
    "np.mean(rf_cv_scores), np.std(rf_cv_scores)"
   ]
  },
  {
   "cell_type": "markdown",
   "id": "d8068a72",
   "metadata": {},
   "source": [
    "### Hyperparameter search using GridSearchCV"
   ]
  },
  {
   "cell_type": "code",
   "execution_count": 61,
   "id": "2e1f534c",
   "metadata": {
    "scrolled": true
   },
   "outputs": [
    {
     "data": {
      "text/plain": [
       "{'randomforestregressor__n_estimators': [10,\n",
       "  12,\n",
       "  16,\n",
       "  20,\n",
       "  26,\n",
       "  33,\n",
       "  42,\n",
       "  54,\n",
       "  69,\n",
       "  88,\n",
       "  112,\n",
       "  143,\n",
       "  183,\n",
       "  233,\n",
       "  297,\n",
       "  379,\n",
       "  483,\n",
       "  615,\n",
       "  784,\n",
       "  1000],\n",
       " 'standardscaler': [StandardScaler(), None],\n",
       " 'simpleimputer__strategy': ['mean', 'median']}"
      ]
     },
     "execution_count": 61,
     "metadata": {},
     "output_type": "execute_result"
    }
   ],
   "source": [
    "n_est = [int(n) for n in np.logspace(start=1, stop=3, num=20)]\n",
    "grid_params = {\n",
    "        'randomforestregressor__n_estimators': n_est,\n",
    "        'standardscaler': [StandardScaler(), None],\n",
    "        'simpleimputer__strategy': ['mean', 'median']\n",
    "}\n",
    "grid_params"
   ]
  },
  {
   "cell_type": "code",
   "execution_count": 62,
   "id": "be1d5da0",
   "metadata": {},
   "outputs": [],
   "source": [
    "rf_grid_cv = GridSearchCV(RF_pipe, param_grid=grid_params, cv=5, n_jobs=-1)"
   ]
  },
  {
   "cell_type": "code",
   "execution_count": 63,
   "id": "164ecd23",
   "metadata": {},
   "outputs": [
    {
     "data": {
      "text/plain": [
       "GridSearchCV(cv=5,\n",
       "             estimator=Pipeline(steps=[('simpleimputer',\n",
       "                                        SimpleImputer(strategy='median')),\n",
       "                                       ('standardscaler', StandardScaler()),\n",
       "                                       ('randomforestregressor',\n",
       "                                        RandomForestRegressor(random_state=47))]),\n",
       "             n_jobs=-1,\n",
       "             param_grid={'randomforestregressor__n_estimators': [10, 12, 16, 20,\n",
       "                                                                 26, 33, 42, 54,\n",
       "                                                                 69, 88, 112,\n",
       "                                                                 143, 183, 233,\n",
       "                                                                 297, 379, 483,\n",
       "                                                                 615, 784,\n",
       "                                                                 1000],\n",
       "                         'simpleimputer__strategy': ['mean', 'median'],\n",
       "                         'standardscaler': [StandardScaler(), None]})"
      ]
     },
     "execution_count": 63,
     "metadata": {},
     "output_type": "execute_result"
    }
   ],
   "source": [
    "rf_grid_cv.fit(X_train, y_train)"
   ]
  },
  {
   "cell_type": "code",
   "execution_count": 64,
   "id": "7ccfcbe6",
   "metadata": {},
   "outputs": [
    {
     "data": {
      "text/plain": [
       "{'randomforestregressor__n_estimators': 297,\n",
       " 'simpleimputer__strategy': 'mean',\n",
       " 'standardscaler': StandardScaler()}"
      ]
     },
     "execution_count": 64,
     "metadata": {},
     "output_type": "execute_result"
    }
   ],
   "source": [
    "rf_grid_cv.best_params_"
   ]
  },
  {
   "cell_type": "markdown",
   "id": "9cb447d0",
   "metadata": {},
   "source": [
    "Looks like imputing with the mean helps as well as scaling the features."
   ]
  },
  {
   "cell_type": "code",
   "execution_count": 65,
   "id": "37e85a02",
   "metadata": {},
   "outputs": [
    {
     "data": {
      "text/plain": [
       "array([0.35198426, 0.33305695, 0.30632227, 0.30010656, 0.33452252])"
      ]
     },
     "execution_count": 65,
     "metadata": {},
     "output_type": "execute_result"
    }
   ],
   "source": [
    "rf_best_cv_results = cross_validate(rf_grid_cv.best_estimator_, X_train, y_train, cv=5)\n",
    "rf_best_scores = rf_best_cv_results['test_score']\n",
    "rf_best_scores"
   ]
  },
  {
   "cell_type": "code",
   "execution_count": 66,
   "id": "efda61c1",
   "metadata": {},
   "outputs": [
    {
     "data": {
      "text/plain": [
       "(0.32519851139698897, 0.019246230323216894)"
      ]
     },
     "execution_count": 66,
     "metadata": {},
     "output_type": "execute_result"
    }
   ],
   "source": [
    "np.mean(rf_best_scores), np.std(rf_best_scores)"
   ]
  },
  {
   "cell_type": "code",
   "execution_count": 67,
   "id": "957044aa",
   "metadata": {},
   "outputs": [
    {
     "data": {
      "image/png": "[encoded data removed]",
      "text/plain": [
       "<Figure size 1000x500 with 1 Axes>"
      ]
     },
     "metadata": {},
     "output_type": "display_data"
    }
   ],
   "source": [
    "#Feature importance in descending order\n",
    "plt.subplots(figsize=(10, 5))\n",
    "imps = rf_grid_cv.best_estimator_.named_steps.randomforestregressor.feature_importances_\n",
    "rf_feat_imps = pd.Series(imps, index=X_train.columns).sort_values(ascending=False)\n",
    "rf_feat_imps.plot(kind='bar')\n",
    "plt.xlabel('features')\n",
    "plt.ylabel('importance')\n",
    "plt.title('Best random forest regressor feature importances');"
   ]
  },
  {
   "cell_type": "markdown",
   "id": "c4795d44",
   "metadata": {},
   "source": [
    "The top feature is in common with our linear model: total_rating_count. Cover follows second in this RF mdoel while it was negative for linear model. updated_at and id are the other top features in RF model that are found as positive in LM."
   ]
  },
  {
   "cell_type": "markdown",
   "id": "76d82aaf",
   "metadata": {},
   "source": [
    "## Final Model Selection "
   ]
  },
  {
   "cell_type": "markdown",
   "id": "78ad0844",
   "metadata": {},
   "source": [
    "#### Linear Regression model performance"
   ]
  },
  {
   "cell_type": "code",
   "execution_count": 68,
   "id": "a1dd4e93",
   "metadata": {},
   "outputs": [],
   "source": [
    "# 'neg_mean_absolute_error' uses the (negative of) the mean absolute error\n",
    "lr_neg_mae = cross_validate(lr_grid_cv.best_estimator_, X_train, y_train, \n",
    "                            scoring='neg_mean_absolute_error', cv=5, n_jobs=-1)"
   ]
  },
  {
   "cell_type": "code",
   "execution_count": 69,
   "id": "1d176b2c",
   "metadata": {},
   "outputs": [
    {
     "data": {
      "text/plain": [
       "(10.093403262811606, 0.285383584453643)"
      ]
     },
     "execution_count": 69,
     "metadata": {},
     "output_type": "execute_result"
    }
   ],
   "source": [
    "lr_mae_mean = np.mean(-1 * lr_neg_mae['test_score'])\n",
    "lr_mae_std = np.std(-1 * lr_neg_mae['test_score'])\n",
    "lr_mae_mean, lr_mae_std"
   ]
  },
  {
   "cell_type": "code",
   "execution_count": 70,
   "id": "01706ad2",
   "metadata": {},
   "outputs": [
    {
     "data": {
      "text/plain": [
       "9.880472326045497"
      ]
     },
     "execution_count": 70,
     "metadata": {},
     "output_type": "execute_result"
    }
   ],
   "source": [
    "mean_absolute_error(y_test, lr_grid_cv.best_estimator_.predict(X_test))"
   ]
  },
  {
   "cell_type": "markdown",
   "id": "6fcd0738",
   "metadata": {},
   "source": [
    "#### Random forest regression performance "
   ]
  },
  {
   "cell_type": "code",
   "execution_count": 71,
   "id": "39a5c22d",
   "metadata": {},
   "outputs": [],
   "source": [
    "rf_neg_mae = cross_validate(rf_grid_cv.best_estimator_, X_train, y_train, \n",
    "                            scoring='neg_mean_absolute_error', cv=5, n_jobs=-1)"
   ]
  },
  {
   "cell_type": "code",
   "execution_count": 72,
   "id": "9275c4d4",
   "metadata": {},
   "outputs": [
    {
     "data": {
      "text/plain": [
       "(8.71055501976775, 0.21140915235790106)"
      ]
     },
     "execution_count": 72,
     "metadata": {},
     "output_type": "execute_result"
    }
   ],
   "source": [
    "rf_mae_mean = np.mean(-1 * rf_neg_mae['test_score'])\n",
    "rf_mae_std = np.std(-1 * rf_neg_mae['test_score'])\n",
    "rf_mae_mean, rf_mae_std"
   ]
  },
  {
   "cell_type": "code",
   "execution_count": 73,
   "id": "ca745ce6",
   "metadata": {},
   "outputs": [
    {
     "data": {
      "text/plain": [
       "8.58476694023569"
      ]
     },
     "execution_count": 73,
     "metadata": {},
     "output_type": "execute_result"
    }
   ],
   "source": [
    "mean_absolute_error(y_test, rf_grid_cv.best_estimator_.predict(X_test))"
   ]
  },
  {
   "cell_type": "markdown",
   "id": "f209f6b1",
   "metadata": {},
   "source": [
    "### Conclusion \n",
    "The random forest model has a lower cross-validation mean absolute error by over 1 point. It also exhibits less variability. Verifying performance on the test set produces performance consistent with the cross-validation results."
   ]
  },
  {
   "cell_type": "markdown",
   "id": "b1caf9d8",
   "metadata": {},
   "source": [
    "## Data quantity assesment"
   ]
  },
  {
   "cell_type": "code",
   "execution_count": 74,
   "id": "2bf259c3",
   "metadata": {},
   "outputs": [],
   "source": [
    "fractions = [.2, .25, .3, .35, .4, .45, .5, .6, .75, .8, 1.0]\n",
    "train_size, train_scores, test_scores = learning_curve(pipe, X_train, y_train, train_sizes=fractions)\n",
    "train_scores_mean = np.mean(train_scores, axis=1)\n",
    "train_scores_std = np.std(train_scores, axis=1)\n",
    "test_scores_mean = np.mean(test_scores, axis=1)\n",
    "test_scores_std = np.std(test_scores, axis=1)"
   ]
  },
  {
   "cell_type": "code",
   "execution_count": 75,
   "id": "03cb738d",
   "metadata": {
    "scrolled": false
   },
   "outputs": [
    {
     "data": {
      "image/png": "[encoded data removed]",
      "text/plain": [
       "<Figure size 1000x500 with 1 Axes>"
      ]
     },
     "metadata": {},
     "output_type": "display_data"
    }
   ],
   "source": [
    "plt.subplots(figsize=(10, 5))\n",
    "plt.errorbar(train_size, test_scores_mean, yerr=test_scores_std)\n",
    "plt.xlabel('Training set size')\n",
    "plt.ylabel('CV scores')\n",
    "plt.title('Cross-validation score as training set size increases');"
   ]
  },
  {
   "cell_type": "markdown",
   "id": "49f45592",
   "metadata": {},
   "source": [
    "This shoes that we seem to have plenty of data. There is an initial rapid improvement in model scores but it levels off by sample size 750."
   ]
  },
  {
   "cell_type": "markdown",
   "id": "4b6af139",
   "metadata": {},
   "source": [
    "## Summary "
   ]
  },
  {
   "cell_type": "markdown",
   "id": "7a856a4f",
   "metadata": {},
   "source": [
    "We started by looking at the mean value as a predictor or a baseline for our pricing model. We stablished a 70/30 train/test split. We then used sklearn’s DummyRegressor. \n",
    "Moving onto metrics to assess how good a set of values agree with another. First, we looked at R^2 which provides the proportion of variance in the dependent variable (total rating) that is predicted by our model. R^2 was zero for our training set given that the first time around we used the average as a predictor. We also looked at mean absolute error which provides the average of the absolute errors. While using the average as a predictor we might expect to be off by 10-11 points in rating when guessing the total rating based on an average of known values.\n",
    "\n",
    "Using a simple linear regression model by imputing the median for missing values on both train and test split provided us slightly better metrics compared to simply using only the average price. Based on the mean absolute error with this model we would expect to estimate total rating of a game within 9-10 points or so of the real rating. We also tried imputing the mean for missing values, performance metrics did not seem significantly different from when the median was used for imputing missing values. \n",
    "\n",
    "We also checked what the different number of features (k) considered would do to the model. In order to prevent overfitting and assess performance, we used cross-validation on our training model. Using best_params_ attribute and selectkbest__k the model provided us with a good value of K being 10. \n",
    "Total_rating_count, id, category, console, updated_at, and operating_system were the positive features using LM. \n",
    "\n",
    "To verify other options, we also used a random forest model on our data, for this case, imputing with the mean helped to train the model as well as scaling the features. When checking on regressor feature importance for this model, we found that the top 4 features include: total_rating_count, cover, updated_at, year, and collection. All but 2 that differ from the positive features provided usind the linear model. \n",
    "\n",
    "In conclusion, the random forest model has a lower cross-validation mean absolute error by over 1 point. It also exhibits less variability. We also verified if the available data is sufficient for the model. We ran the learning_curve function to test whether we need the full training size or just a partial size and we found that the training size was maxed out at about 750. This indicates we have plenty of data."
   ]
  },
  {
   "cell_type": "code",
   "execution_count": null,
   "id": "4f467cf8",
   "metadata": {},
   "outputs": [],
   "source": []
  }
 ],
 "metadata": {
  "kernelspec": {
   "display_name": "Python 3 (ipykernel)",
   "language": "python",
   "name": "python3"
  },
  "language_info": {
   "codemirror_mode": {
    "name": "ipython",
    "version": 3
   },
   "file_extension": ".py",
   "mimetype": "text/x-python",
   "name": "python",
   "nbconvert_exporter": "python",
   "pygments_lexer": "ipython3",
   "version": "3.9.13"
  }
 },
 "nbformat": 4,
 "nbformat_minor": 5
}
